{
 "cells": [
  {
   "cell_type": "markdown",
   "metadata": {},
   "source": [
    "#### This is the online assessment from Kargo "
   ]
  },
  {
   "cell_type": "markdown",
   "metadata": {},
   "source": [
    "## Problem:\n",
    "\n",
    "Determine whether a one-to-one charachter mapping exists from one string, s1, to another string, s2.\n",
    "\n",
    "Example1:<br>\n",
    ">s1 = \"abc\"<br>\n",
    ">s2 = \"efg\"<br>\n",
    ">print(True)<br>\n",
    "\n",
    "Example2:<br>\n",
    ">s1 = \"foo\"<br>\n",
    ">s2 = \"bar\"<br>\n",
    ">print(False)<br>\n",
    "\n",
    "Example3:<br>\n",
    ">s1 = \"bar\"<br>\n",
    ">s2 = \"foo\"<br>\n",
    ">print(True)<br>"
   ]
  },
  {
   "cell_type": "markdown",
   "metadata": {},
   "source": [
    "## Analysis:\n",
    "\n",
    "Based on the example above, we can know that:<br>\n",
    "1. one-to-one mapping (Example 1) and many-to-one (Example 3) mapping are all valid<br>\n",
    "2. the length of the two string might not be the same (no assumption in the problem)<br>\n",
    "3. the order of the alphabet in strings cause no effect to the result<br>"
   ]
  },
  {
   "cell_type": "markdown",
   "metadata": {},
   "source": [
    "## Assumption:\n",
    "\n",
    "All the elements in strings are all lowercase alphabet<br>"
   ]
  },
  {
   "cell_type": "markdown",
   "metadata": {},
   "source": [
    "## Solution:"
   ]
  },
  {
   "cell_type": "code",
   "execution_count": 1,
   "metadata": {},
   "outputs": [],
   "source": [
    "def oa(s1, s2):\n",
    "    # part1\n",
    "    if len(s1)>len(s2): return False\n",
    "    # part2\n",
    "    s1li, s2li = [0]*26, [0]*26\n",
    "    for i in s1: s1li[ord(i)-97]+=1\n",
    "    for i in s2: s2li[ord(i)-97]+=1\n",
    "    s1li.sort(reverse=True)\n",
    "    s2li.sort(reverse=True)\n",
    "    s1li, s2li = s1li[:s1li.index(0)], s2li[:s2li.index(0)]\n",
    "    # part3\n",
    "    while s1li:\n",
    "        if s1li[0] > s2li[0]:\n",
    "            return False\n",
    "        elif s1li[0] == s2li[0]: \n",
    "            s1li, s2li = s1li[1:], s2li[1:]\n",
    "        else:\n",
    "            s2li[0]-=s1li[0]\n",
    "            s2li.sort(reverse=True)\n",
    "            s1li = s1li[1:]\n",
    "    return True"
   ]
  },
  {
   "cell_type": "markdown",
   "metadata": {},
   "source": [
    "## Explaination:\n",
    "\n",
    "s1 is the first string, s2 is the second string.\n",
    "\n",
    "- #### part1:<br>\n",
    "Since the length of s1, s2 might not be the same. If the length of s1 is larger, there must exist an element that cannot be mapped to s2.<br>\n",
    "\n",
    "- #### part2:<br>\n",
    "Construct 2 lists with 26's 0 per each, which represent the number of each alphabet for s1 and s2.<br>\n",
    "Then, sort with descending order and keep the existing alphabets.<br>\n",
    "\n",
    "- #### part3:<br>\n",
    "If the first element in s1li (the maximum value in s1li) is larger than s2li (the maximum value in s2li), return False. (many-to-many mapping)<br>\n",
    "If both the first element in s1li and s2li are the same, mapping succeed. Then, remove the first elements of s1li and s2li.<br>\n",
    "If the first element in $s1li$ is smaller than $s1li$, deduct the mapping succeeded value and re-sort the s2li for the next comparison.<br>\n",
    "If s1li is empty, it means that every element in s1li has been mapped to the value in s2li with the corrected mapping method, return True\n",
    "\n",
    "- #### Consequence:<br>\n",
    "> Memory: O(1)<br>\n",
    "> For any s1 (with length n) and s2 (with length m), the length of s1li and s2li are always 26, which represents a~z (assume k=26)<br>\n",
    "> <br>\n",
    "> Runtime: O(n)<br>\n",
    "> In part 3, although we need the sort in the while loop, since it only sorted with the length of 26, the runtime is k*log(k)*n, which is O(n) <br>"
   ]
  },
  {
   "cell_type": "markdown",
   "metadata": {},
   "source": [
    "## Basic Testing:"
   ]
  },
  {
   "cell_type": "code",
   "execution_count": 2,
   "metadata": {},
   "outputs": [],
   "source": [
    "# should pass\n",
    "s1 = \"abc\"\n",
    "s2 = \"efg\"\n",
    "assert(oa(s1, s2) == True)"
   ]
  },
  {
   "cell_type": "code",
   "execution_count": 3,
   "metadata": {},
   "outputs": [],
   "source": [
    "# should pass\n",
    "s1 = \"foo\"\n",
    "s2 = \"abc\"\n",
    "assert(oa(s1, s2) == False)"
   ]
  },
  {
   "cell_type": "code",
   "execution_count": 4,
   "metadata": {},
   "outputs": [],
   "source": [
    "# should pass\n",
    "s1 = \"abc\"\n",
    "s2 = \"foo\"\n",
    "assert(oa(s1, s2) == True)"
   ]
  },
  {
   "cell_type": "code",
   "execution_count": 5,
   "metadata": {},
   "outputs": [],
   "source": [
    "# should pass\n",
    "s1 = \"abcc\"\n",
    "s2 = \"aaab\"\n",
    "assert(oa(s1, s2) == True)"
   ]
  },
  {
   "cell_type": "markdown",
   "metadata": {},
   "source": [
    "## Random Case Testing:"
   ]
  },
  {
   "cell_type": "code",
   "execution_count": 6,
   "metadata": {},
   "outputs": [],
   "source": [
    "import random\n",
    "import string\n",
    "\n",
    "def generate_random_string(length):\n",
    "    return ''.join(random.choice(string.ascii_lowercase) for _ in range(length))\n",
    "\n",
    "def test_result(length_s1, length_s2):\n",
    "    s1 = generate_random_string(length_s1)\n",
    "    s2 = generate_random_string(length_s2)\n",
    "    print(f\"the length of s1 {length_s1}; the length of s2 {length_s2}\")\n",
    "    print(\"s1: \", s1)\n",
    "    print(\"s2: \", s2)\n",
    "    print(\"the sorted s1: \", \"\".join(sorted(s1)))\n",
    "    print(\"the sorted s2: \", \"\".join(sorted(s2)))\n",
    "    print(f\"The result: {oa(s1, s2)}\")\n",
    "    print(\"-\"*50)"
   ]
  },
  {
   "cell_type": "code",
   "execution_count": 7,
   "metadata": {},
   "outputs": [
    {
     "name": "stdout",
     "output_type": "stream",
     "text": [
      "the length of s1 22; the length of s2 22\n",
      "s1:  lnkpnawkcoxepnvmwlwayr\n",
      "s2:  bztmvjdluzjshlpvtpwhug\n",
      "the sorted s1:  aacekkllmnnnopprvwwwxy\n",
      "the sorted s2:  bdghhjjllmppsttuuvvwzz\n",
      "The result: False\n",
      "--------------------------------------------------\n",
      "the length of s1 26; the length of s2 26\n",
      "s1:  vclkshxorqoxuvjbsdnhssjxrp\n",
      "s2:  srmwfeepnftaqoxmnzwehvfzti\n",
      "the sorted s1:  bcdhhjjklnoopqrrssssuvvxxx\n",
      "the sorted s2:  aeeefffhimmnnopqrsttvwwxzz\n",
      "The result: False\n",
      "--------------------------------------------------\n",
      "the length of s1 19; the length of s2 19\n",
      "s1:  yskirawujhfkuniyuhj\n",
      "s2:  wewttcxrwoiwkxhpjqp\n",
      "the sorted s1:  afhhiijjkknrsuuuwyy\n",
      "the sorted s2:  cehijkoppqrttwwwwxx\n",
      "The result: False\n",
      "--------------------------------------------------\n",
      "the length of s1 10; the length of s2 10\n",
      "s1:  suoqeqhmpd\n",
      "s2:  vbzrcrrewn\n",
      "the sorted s1:  dehmopqqsu\n",
      "the sorted s2:  bcenrrrvwz\n",
      "The result: True\n",
      "--------------------------------------------------\n",
      "the length of s1 22; the length of s2 22\n",
      "s1:  gdamssuabvccpcfkstzllu\n",
      "s2:  wogbzgjljbhokwlukcvcqy\n",
      "the sorted s1:  aabcccdfgkllmpssstuuvz\n",
      "the sorted s2:  bbccgghjjkkllooquvwwyz\n",
      "The result: False\n",
      "--------------------------------------------------\n",
      "the length of s1 26; the length of s2 26\n",
      "s1:  stjjlzvmelzuwbnfrekoloudxy\n",
      "s2:  zinfdcjbmipopjuoypybomjcvl\n",
      "the sorted s1:  bdeefjjklllmnoorstuuvwxyzz\n",
      "the sorted s2:  bbccdfiijjjlmmnooopppuvyyz\n",
      "The result: True\n",
      "--------------------------------------------------\n",
      "the length of s1 16; the length of s2 16\n",
      "s1:  kahdmdrekwxpqobd\n",
      "s2:  ravfgyamqfbrzcrr\n",
      "the sorted s1:  abdddehkkmopqrwx\n",
      "the sorted s2:  aabcffgmqrrrrvyz\n",
      "The result: True\n",
      "--------------------------------------------------\n",
      "the length of s1 26; the length of s2 26\n",
      "s1:  mmnpkulavycvixoearhbqavvvv\n",
      "s2:  qvdepycvkxxykezyrdlaghcayo\n",
      "the sorted s1:  aaabcehiklmmnopqruvvvvvvxy\n",
      "the sorted s2:  aaccddeeghkklopqrvvxxyyyyz\n",
      "The result: False\n",
      "--------------------------------------------------\n",
      "the length of s1 27; the length of s2 27\n",
      "s1:  tlochhklcwynwqiviywvlllkxpe\n",
      "s2:  ozzjszeczkfdhliupfzcvhxsael\n",
      "the sorted s1:  ccehhiikklllllnopqtvvwwwxyy\n",
      "the sorted s2:  accdeeffhhijkllopssuvxzzzzz\n",
      "The result: False\n",
      "--------------------------------------------------\n",
      "the length of s1 17; the length of s2 17\n",
      "s1:  pzhroyuoawgavrhzr\n",
      "s2:  yngqewgoshciwkyni\n",
      "the sorted s1:  aaghhooprrruvwyzz\n",
      "the sorted s2:  cegghiiknnoqswwyy\n",
      "The result: False\n",
      "--------------------------------------------------\n"
     ]
    }
   ],
   "source": [
    "# test for the same length \n",
    "testing_times = 10\n",
    "testing_length_range = (10, 30)\n",
    "for _ in range(testing_times):\n",
    "    length_s1 = length_s2 = random.randrange(*testing_length_range)\n",
    "    test_result(length_s1, length_s2)"
   ]
  },
  {
   "cell_type": "code",
   "execution_count": 8,
   "metadata": {},
   "outputs": [
    {
     "name": "stdout",
     "output_type": "stream",
     "text": [
      "the length of s1 21; the length of s2 26\n",
      "s1:  vrabrdxjgujvptmarasnz\n",
      "s2:  ddjqknavjgtphqsmvsmpcnhqjn\n",
      "the sorted s1:  aaabdgjjmnprrrstuvvxz\n",
      "the sorted s2:  acddghhjjjkmmnnnppqqqsstvv\n",
      "The result: True\n",
      "--------------------------------------------------\n",
      "the length of s1 11; the length of s2 22\n",
      "s1:  qpapnmmluho\n",
      "s2:  qemkokwzqtlcarixfpgwah\n",
      "the sorted s1:  ahlmmnoppqu\n",
      "the sorted s2:  aacefghikklmopqqrtwwxz\n",
      "The result: True\n",
      "--------------------------------------------------\n",
      "the length of s1 13; the length of s2 12\n",
      "s1:  ghacyoftarepc\n",
      "s2:  eppaybibmigc\n",
      "the sorted s1:  aaccefghoprty\n",
      "the sorted s2:  abbcegiimppy\n",
      "The result: False\n",
      "--------------------------------------------------\n",
      "the length of s1 11; the length of s2 15\n",
      "s1:  mbinrrovgap\n",
      "s2:  qrnzxucunktrxlw\n",
      "the sorted s1:  abgimnoprrv\n",
      "the sorted s2:  cklnnqrrtuuwxxz\n",
      "The result: True\n",
      "--------------------------------------------------\n",
      "the length of s1 11; the length of s2 26\n",
      "s1:  hoiruxrwpgv\n",
      "s2:  zwotgznjjaachfsrgeihynbbjb\n",
      "the sorted s1:  ghioprruvwx\n",
      "the sorted s2:  aabbbcefgghhijjjnnorstwyzz\n",
      "The result: True\n",
      "--------------------------------------------------\n",
      "the length of s1 29; the length of s2 10\n",
      "s1:  yaccpmgmosbygavozkyoeiziqcacn\n",
      "s2:  vojmcahnbl\n",
      "the sorted s1:  aaabcccceggiikmmnooopqsvyyyzz\n",
      "the sorted s2:  abchjlmnov\n",
      "The result: False\n",
      "--------------------------------------------------\n",
      "the length of s1 28; the length of s2 22\n",
      "s1:  rfnhnuoeljghudwsngfoymjhjcem\n",
      "s2:  dmkhqjxuqufbftmhbrzrnn\n",
      "the sorted s1:  cdeeffgghhhjjjlmmnnnoorsuuwy\n",
      "the sorted s2:  bbdffhhjkmmnnqqrrtuuxz\n",
      "The result: False\n",
      "--------------------------------------------------\n",
      "the length of s1 10; the length of s2 28\n",
      "s1:  erwcjnyukd\n",
      "s2:  zfjzwcfyydorwgvcdtuojyxkcupj\n",
      "the sorted s1:  cdejknruwy\n",
      "the sorted s2:  cccddffgjjjkooprtuuvwwxyyyzz\n",
      "The result: True\n",
      "--------------------------------------------------\n",
      "the length of s1 21; the length of s2 15\n",
      "s1:  pyswjsbtxycbwmbbyrlpz\n",
      "s2:  umiihzyghlrmmsu\n",
      "the sorted s1:  bbbbcjlmpprsstwwxyyyz\n",
      "the sorted s2:  ghhiilmmmrsuuyz\n",
      "The result: False\n",
      "--------------------------------------------------\n",
      "the length of s1 25; the length of s2 19\n",
      "s1:  nwxgaehtqegbelzrasqzslztb\n",
      "s2:  fsamghtikkfntabojjo\n",
      "the sorted s1:  aabbeeegghllnqqrssttwxzzz\n",
      "the sorted s2:  aabffghijjkkmnoostt\n",
      "The result: False\n",
      "--------------------------------------------------\n"
     ]
    }
   ],
   "source": [
    "# test for the different length \n",
    "testing_times = 10\n",
    "testing_length_range = (10, 30)\n",
    "for _ in range(testing_times):\n",
    "    length_s1 = random.randrange(*testing_length_range)\n",
    "    length_s2 = random.randrange(*testing_length_range)\n",
    "    test_result(length_s1, length_s2)"
   ]
  },
  {
   "cell_type": "markdown",
   "metadata": {},
   "source": [
    "## This is the end of explanation\n",
    "Thank you for putting effort into reading it "
   ]
  }
 ],
 "metadata": {
  "kernelspec": {
   "display_name": "Python 3",
   "language": "python",
   "name": "python3"
  },
  "language_info": {
   "codemirror_mode": {
    "name": "ipython",
    "version": 3
   },
   "file_extension": ".py",
   "mimetype": "text/x-python",
   "name": "python",
   "nbconvert_exporter": "python",
   "pygments_lexer": "ipython3",
   "version": "3.7.3"
  }
 },
 "nbformat": 4,
 "nbformat_minor": 2
}
