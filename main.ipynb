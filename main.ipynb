{
 "cells": [
  {
   "cell_type": "markdown",
   "metadata": {},
   "source": [
    "#### This is the online assessment from Kargo "
   ]
  },
  {
   "cell_type": "markdown",
   "metadata": {},
   "source": [
    "## Problem:\n",
    "\n",
    "Determine whether a one-to-one charachter mapping exists from one string, s1, to another string, s2.\n",
    "\n",
    "Example1:<br>\n",
    ">s1 = \"abc\"<br>\n",
    ">s2 = \"efg\"<br>\n",
    ">print(True)<br>\n",
    "\n",
    "Example2:<br>\n",
    ">s1 = \"foo\"<br>\n",
    ">s2 = \"bar\"<br>\n",
    ">print(False)<br>\n",
    "\n",
    "Example3:<br>\n",
    ">s1 = \"bar\"<br>\n",
    ">s2 = \"foo\"<br>\n",
    ">print(True)<br>"
   ]
  },
  {
   "cell_type": "markdown",
   "metadata": {},
   "source": [
    "## Analysis:\n",
    "\n",
    "Based on the example above, we can know that:<br>\n",
    "1. one-to-one mapping (Example 1) and many-to-one (Example 3) mapping are all valid<br>\n",
    "2. the length of the two string might not be the same (no assumption in the problem)<br>\n",
    "3. the order of the alphabet in strings cause no effect to the result<br>"
   ]
  },
  {
   "cell_type": "markdown",
   "metadata": {},
   "source": [
    "## Solution:"
   ]
  },
  {
   "cell_type": "code",
   "execution_count": 1,
   "metadata": {},
   "outputs": [],
   "source": [
    "def oa(s1, s2):\n",
    "    # part1\n",
    "    s1li, s2li = [0]*26, [0]*26\n",
    "    for i in s1: s1li[ord(i)-97]+=1\n",
    "    for i in s2: s2li[ord(i)-97]+=1\n",
    "    # part2\n",
    "    if sum(s1li)>sum(s2li): return False\n",
    "    # part3\n",
    "    s1li, s2li = sorted(s1li, reverse=True), sorted(s2li, reverse=True)\n",
    "    s1li, s2li = s1li[:s1li.index(0)], s2li[:s2li.index(0)]\n",
    "    while s1li:\n",
    "        if s1li[0] > s2li[0]: return False\n",
    "        elif s1li[0] == s2li[0]: s1li, s2li = s1li[1:], s2li[1:]\n",
    "        else: s2li[0], s2li, s1li = s2li[0]-s1li[0], sorted(s2li, reverse=True), s1li[1:]\n",
    "    return True"
   ]
  },
  {
   "cell_type": "markdown",
   "metadata": {},
   "source": [
    "## Explaination:\n",
    "\n",
    "$s1$ is the first string, $s2$ is the second string.\n",
    "\n",
    "- #### part1:<br>\n",
    "Construct 2 lists with 26's 0 per each, which represent the number of each alphabet for two strings, $s1$ and $s2$.<br>\n",
    "Then, keep the alphabet that has shown up in $s1$, $s2$.<br>\n",
    "\n",
    "- #### part2:<br>\n",
    "Since the length of $s1$, $s2$ might not be the same. If the length of $s1$ is larger, there must be an element which cannot be mapping to $s2$<br>\n",
    "\n",
    "- #### part3:<br>\n",
    "Check the first element for mapping.<br>\n",
    "If the first element in $s1li$ (the maximum value in $s1li$) is larger than $s2li$ (the maximum value in $s2li$), return $False$. (many-to-many mapping)<br>\n",
    "If the first element in $s1li$ and $s2li$ are the same, mapping succeed. Then, remove the first elements of $s1li$ and $s2li$.<br>\n",
    "If the first element in $s1li$ is smaller than $s1li$, deduct the mapping succeeded value and re-sorted the $s2li$ for the next comparison.<br>\n",
    "If $s1li$ is empty, it means that every element in $s1li$ has been mapped to the value in $s2li$ with the corrected mapping method, return $True$"
   ]
  },
  {
   "cell_type": "markdown",
   "metadata": {},
   "source": [
    "## Basic Testing:"
   ]
  },
  {
   "cell_type": "code",
   "execution_count": 2,
   "metadata": {},
   "outputs": [],
   "source": [
    "# should pass\n",
    "s1 = \"abc\"\n",
    "s2 = \"efg\"\n",
    "assert(oa(s1, s2) == True)"
   ]
  },
  {
   "cell_type": "code",
   "execution_count": 3,
   "metadata": {},
   "outputs": [],
   "source": [
    "# should pass\n",
    "s1 = \"foo\"\n",
    "s2 = \"abc\"\n",
    "assert(oa(s1, s2) == False)"
   ]
  },
  {
   "cell_type": "code",
   "execution_count": 4,
   "metadata": {},
   "outputs": [],
   "source": [
    "# should pass\n",
    "s1 = \"abc\"\n",
    "s2 = \"foo\"\n",
    "assert(oa(s1, s2) == True)"
   ]
  },
  {
   "cell_type": "code",
   "execution_count": 5,
   "metadata": {},
   "outputs": [],
   "source": [
    "# should pass\n",
    "s1 = \"abcc\"\n",
    "s2 = \"aaab\"\n",
    "assert(oa(s1, s2) == True)"
   ]
  },
  {
   "cell_type": "markdown",
   "metadata": {},
   "source": [
    "## Random Case Testing:"
   ]
  },
  {
   "cell_type": "code",
   "execution_count": 6,
   "metadata": {},
   "outputs": [],
   "source": [
    "import random\n",
    "import string\n",
    "\n",
    "def generate_random_string(length):\n",
    "    return ''.join(random.choice(string.ascii_lowercase) for _ in range(length))\n",
    "\n",
    "def test_result(length_s1, length_s2):\n",
    "    s1 = generate_random_string(length_s1)\n",
    "    s2 = generate_random_string(length_s2)\n",
    "    print(f\"the length of s1 {length_s1}; the length of s2 {length_s2}\")\n",
    "    print(\"s1: \", s1)\n",
    "    print(\"s2: \", s2)\n",
    "    print(\"the sorted s1: \", \"\".join(sorted(s1)))\n",
    "    print(\"the sorted s2: \", \"\".join(sorted(s2)))\n",
    "    print(f\"The result: {oa(s1, s2)}\")\n",
    "    print(\"-\"*50)"
   ]
  },
  {
   "cell_type": "code",
   "execution_count": 7,
   "metadata": {},
   "outputs": [
    {
     "name": "stdout",
     "output_type": "stream",
     "text": [
      "the length of s1 23; the length of s2 23\n",
      "s1:  jorgzpxdpcetdwbjikwsanj\n",
      "s2:  fphlivomuufivrmmffxnkzy\n",
      "the sorted s1:  abcddegijjjknopprstwwxz\n",
      "the sorted s2:  ffffhiiklmmmnopruuvvxyz\n",
      "The result: True\n",
      "--------------------------------------------------\n",
      "the length of s1 19; the length of s2 19\n",
      "s1:  illwropgoxgzrqtwbpx\n",
      "s2:  nnsvxennxdhrhsdmjmf\n",
      "the sorted s1:  bggillooppqrrtwwxxz\n",
      "the sorted s2:  ddefhhjmmnnnnrssvxx\n",
      "The result: True\n",
      "--------------------------------------------------\n",
      "the length of s1 20; the length of s2 20\n",
      "s1:  qomyyzjqrpywkarvnqmb\n",
      "s2:  jumixohwuinvabsvqaiy\n",
      "the sorted s1:  abjkmmnopqqqrrvwyyyz\n",
      "the sorted s2:  aabhiiijmnoqsuuvvwxy\n",
      "The result: False\n",
      "--------------------------------------------------\n",
      "the length of s1 19; the length of s2 19\n",
      "s1:  pubwrodplupcshzabkk\n",
      "s2:  evmaszowvaptvwgtkuz\n",
      "the sorted s1:  abbcdhkkloppprsuuwz\n",
      "the sorted s2:  aaegkmopsttuvvvwwzz\n",
      "The result: True\n",
      "--------------------------------------------------\n",
      "the length of s1 26; the length of s2 26\n",
      "s1:  gqhvxjujsstbuyzaigicyzwmwu\n",
      "s2:  vhtddebnntttvdvcznwtanaxkw\n",
      "the sorted s1:  abcgghiijjmqsstuuuvwwxyyzz\n",
      "the sorted s2:  aabcdddehknnnntttttvvvwwxz\n",
      "The result: True\n",
      "--------------------------------------------------\n",
      "the length of s1 24; the length of s2 24\n",
      "s1:  pdihscnggqknhoecqtauxjth\n",
      "s2:  ytsmzroocdbdcrujhqgfppts\n",
      "the sorted s1:  accdegghhhijknnopqqsttux\n",
      "the sorted s2:  bccddfghjmooppqrrssttuyz\n",
      "The result: False\n",
      "--------------------------------------------------\n",
      "the length of s1 19; the length of s2 19\n",
      "s1:  jrurppvuieubupivdth\n",
      "s2:  wytqbnmoikhtgaswrxo\n",
      "the sorted s1:  bdehiijppprrtuuuuvv\n",
      "the sorted s2:  abghikmnooqrsttwwxy\n",
      "The result: False\n",
      "--------------------------------------------------\n",
      "the length of s1 12; the length of s2 12\n",
      "s1:  jtbiehzlocwi\n",
      "s2:  bklkpccqztgc\n",
      "the sorted s1:  bcehiijlotwz\n",
      "the sorted s2:  bcccgkklpqtz\n",
      "The result: True\n",
      "--------------------------------------------------\n",
      "the length of s1 20; the length of s2 20\n",
      "s1:  sxzfmstdsknkjswwiivy\n",
      "s2:  ubdjirmztoslowukdgxt\n",
      "the sorted s1:  dfiijkkmnsssstvwwxyz\n",
      "the sorted s2:  bddgijklmoorsttuuwxz\n",
      "The result: False\n",
      "--------------------------------------------------\n",
      "the length of s1 22; the length of s2 22\n",
      "s1:  aqrndsgrpwzskwxagsqpny\n",
      "s2:  wmehdmnbvvwfbwevamocwt\n",
      "the sorted s1:  aadggknnppqqrrssswwxyz\n",
      "the sorted s2:  abbcdeefhmmmnotvvvwwww\n",
      "The result: True\n",
      "--------------------------------------------------\n"
     ]
    }
   ],
   "source": [
    "# test for the same length \n",
    "testing_times = 10\n",
    "testing_length_range = (10, 30)\n",
    "for _ in range(testing_times):\n",
    "    length_s1 = length_s2 = random.randrange(*testing_length_range)\n",
    "    test_result(length_s1, length_s2)"
   ]
  },
  {
   "cell_type": "code",
   "execution_count": 8,
   "metadata": {},
   "outputs": [
    {
     "name": "stdout",
     "output_type": "stream",
     "text": [
      "the length of s1 14; the length of s2 12\n",
      "s1:  odzkvdbsregfra\n",
      "s2:  hkbqokqbbgef\n",
      "the sorted s1:  abddefgkorrsvz\n",
      "the sorted s2:  bbbefghkkoqq\n",
      "The result: False\n",
      "--------------------------------------------------\n",
      "the length of s1 18; the length of s2 14\n",
      "s1:  nxadghqoqwhsdxxcum\n",
      "s2:  fqtvjtnpqlunet\n",
      "the sorted s1:  acddghhmnoqqsuwxxx\n",
      "the sorted s2:  efjlnnpqqtttuv\n",
      "The result: False\n",
      "--------------------------------------------------\n",
      "the length of s1 22; the length of s2 21\n",
      "s1:  lvimhgwlidlraodwrhiyrp\n",
      "s2:  dubmscujvrmcldgudoiet\n",
      "the sorted s1:  addghhiiilllmoprrrvwwy\n",
      "the sorted s2:  bccdddegijlmmorstuuuv\n",
      "The result: False\n",
      "--------------------------------------------------\n",
      "the length of s1 21; the length of s2 26\n",
      "s1:  sujnguifefmksitbktkdk\n",
      "s2:  nlbtfjlsccgtdhjzokkggcstgv\n",
      "the sorted s1:  bdeffgiijkkkkmnssttuu\n",
      "the sorted s2:  bcccdfgggghjjkkllnosstttvz\n",
      "The result: True\n",
      "--------------------------------------------------\n",
      "the length of s1 26; the length of s2 21\n",
      "s1:  cnoootqzqmofzuwugzuifxmrkk\n",
      "s2:  hfsknoajdjpvgpsoolzwb\n",
      "the sorted s1:  cffgikkmmnooooqqrtuuuwxzzz\n",
      "the sorted s2:  abdfghjjklnoooppssvwz\n",
      "The result: False\n",
      "--------------------------------------------------\n",
      "the length of s1 18; the length of s2 17\n",
      "s1:  afmsmfbrzfztnqxjbr\n",
      "s2:  cnehozjhwpcqnlgtw\n",
      "the sorted s1:  abbfffjmmnqrrstxzz\n",
      "the sorted s2:  cceghhjlnnopqtwwz\n",
      "The result: False\n",
      "--------------------------------------------------\n",
      "the length of s1 13; the length of s2 16\n",
      "s1:  rmekxqjzdbfwl\n",
      "s2:  kqtqeumdlkoyhhnx\n",
      "the sorted s1:  bdefjklmqrwxz\n",
      "the sorted s2:  dehhkklmnoqqtuxy\n",
      "The result: True\n",
      "--------------------------------------------------\n",
      "the length of s1 19; the length of s2 15\n",
      "s1:  xbxvczpmovsvjmfayba\n",
      "s2:  ouzpwzoxkkwvumh\n",
      "the sorted s1:  aabbcfjmmopsvvvxxyz\n",
      "the sorted s2:  hkkmoopuuvwwxzz\n",
      "The result: False\n",
      "--------------------------------------------------\n",
      "the length of s1 21; the length of s2 15\n",
      "s1:  vhbvegnhievakzhpyadpu\n",
      "s2:  mmfxwmqdqzyczmc\n",
      "the sorted s1:  aabdeeghhhiknppuvvvyz\n",
      "the sorted s2:  ccdfmmmmqqwxyzz\n",
      "The result: False\n",
      "--------------------------------------------------\n",
      "the length of s1 28; the length of s2 23\n",
      "s1:  gmovguqpgxypyfqvypfauumfikes\n",
      "s2:  iihqzgfuwynaevrmqjicrqm\n",
      "the sorted s1:  aefffgggikmmopppqqsuuuvvxyyy\n",
      "the sorted s2:  acefghiiijmmnqqqrruvwyz\n",
      "The result: False\n",
      "--------------------------------------------------\n"
     ]
    }
   ],
   "source": [
    "# test for the different length \n",
    "testing_times = 10\n",
    "testing_length_range = (10, 30)\n",
    "for _ in range(testing_times):\n",
    "    length_s1 = random.randrange(*testing_length_range)\n",
    "    length_s2 = random.randrange(*testing_length_range)\n",
    "    test_result(length_s1, length_s2)"
   ]
  },
  {
   "cell_type": "markdown",
   "metadata": {},
   "source": [
    "## This is the end of explanation\n",
    "Thank you for putting effort into reading it "
   ]
  }
 ],
 "metadata": {
  "kernelspec": {
   "display_name": "Python 3",
   "language": "python",
   "name": "python3"
  },
  "language_info": {
   "codemirror_mode": {
    "name": "ipython",
    "version": 3
   },
   "file_extension": ".py",
   "mimetype": "text/x-python",
   "name": "python",
   "nbconvert_exporter": "python",
   "pygments_lexer": "ipython3",
   "version": "3.7.3"
  }
 },
 "nbformat": 4,
 "nbformat_minor": 2
}
