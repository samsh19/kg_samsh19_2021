{
 "cells": [
  {
   "cell_type": "markdown",
   "metadata": {},
   "source": [
    "#### This is the online assessment from Kargo "
   ]
  },
  {
   "cell_type": "markdown",
   "metadata": {},
   "source": [
    "## Problem:\n",
    "\n",
    "Determine whether a one-to-one charachter mapping exists from one string, s1, to another string, s2.\n",
    "\n",
    "Example1:<br>\n",
    ">s1 = \"abc\"<br>\n",
    ">s2 = \"efg\"<br>\n",
    ">print(True)<br>\n",
    "\n",
    "Example2:<br>\n",
    ">s1 = \"foo\"<br>\n",
    ">s2 = \"bar\"<br>\n",
    ">print(False)<br>\n",
    "\n",
    "Example3:<br>\n",
    ">s1 = \"bar\"<br>\n",
    ">s2 = \"foo\"<br>\n",
    ">print(True)<br>"
   ]
  },
  {
   "cell_type": "markdown",
   "metadata": {},
   "source": [
    "## Analysis:\n",
    "\n",
    "Based on the example above, we can know that:<br>\n",
    "1. one-to-one mapping (Example 1, 2) and one-to-many (Example 3) mapping are all valid<br>\n",
    "2. the length of the two string might not be the same (no assumption in the problem)<br>\n",
    "3. the order of the alphabet in strings cause no effect to the result<br>"
   ]
  },
  {
   "cell_type": "markdown",
   "metadata": {},
   "source": [
    "## Solution:"
   ]
  },
  {
   "cell_type": "code",
   "execution_count": 1,
   "metadata": {},
   "outputs": [],
   "source": [
    "def oa(s1, s2):\n",
    "    # part1\n",
    "    s1li, s2li = [0]*26, [0]*26\n",
    "    for i in s1: s1li[ord(i)-97]+=1\n",
    "    for i in s2: s2li[ord(i)-97]+=1\n",
    "    # part2\n",
    "    if sum(s1li)>sum(s2li): return False\n",
    "    # part3\n",
    "    s1li, s2li = sorted(s1li, reverse=True), sorted(s2li, reverse=True)\n",
    "    s1li, s2li = s1li[:s1li.index(0)], s2li[:s2li.index(0)]\n",
    "    while s1li:\n",
    "        if s1li[0] > s2li[0]: return False\n",
    "        elif s1li[0] == s2li[0]: s1li, s2li = s1li[1:], s2li[1:]\n",
    "        else: s2li[0], s2li, s1li = s2li[0]-s1li[0], sorted(s2li, reverse=True), s1li[1:]\n",
    "    return True"
   ]
  },
  {
   "cell_type": "markdown",
   "metadata": {},
   "source": [
    "## Explaination:\n",
    "\n",
    "$s1$ is the first string, $s2$ is the second string.\n",
    "\n",
    "- #### part1:<br>\n",
    "Construct 2 lists with 26's 0 per each, which represent the number of each alphabet for two strings, $s1$ and $s2$.<br>\n",
    "Then, keep the alphabet that has shown up in $s1$, $s2$.<br>\n",
    "\n",
    "- #### part2:<br>\n",
    "Since the length of $s1$, $s2$ might not be the same. If the length of $s1$ is larger, there must be an element which cannot be mapping to $s2$<br>\n",
    "\n",
    "- #### part3:<br>\n",
    "Check the first element for mapping.<br>\n",
    "If the first element in $s1li$ (the maximum value in $s1li$) is larger than $s2li$ (the maximum value in $s2li$), return $False$. (many-to-many mapping)<br>\n",
    "If the first element in $s1li$ and $s2li$ are the same, mapping succeed. Then, remove the first elements of $s1li$ and $s2li$.<br>\n",
    "If the first element in $s1li$ is smaller than $s1li$, deduct the mapping succeeded value and re-sorted the $s2li$ for the next comparison.<br>\n",
    "If $s1li$ is empty, it means that every element in $s1li$ has been mapped to the value in $s2li$ with the corrected mapping method, return $True$"
   ]
  },
  {
   "cell_type": "markdown",
   "metadata": {},
   "source": [
    "## Basic Testing:"
   ]
  },
  {
   "cell_type": "code",
   "execution_count": 2,
   "metadata": {},
   "outputs": [],
   "source": [
    "# should pass\n",
    "s1 = \"abc\"\n",
    "s2 = \"efg\"\n",
    "assert(oa(s1, s2) == True)"
   ]
  },
  {
   "cell_type": "code",
   "execution_count": 3,
   "metadata": {},
   "outputs": [
    {
     "ename": "AssertionError",
     "evalue": "",
     "output_type": "error",
     "traceback": [
      "\u001b[1;31m---------------------------------------------------------------------------\u001b[0m",
      "\u001b[1;31mAssertionError\u001b[0m                            Traceback (most recent call last)",
      "\u001b[1;32m<ipython-input-3-78596cb2e7a3>\u001b[0m in \u001b[0;36m<module>\u001b[1;34m\u001b[0m\n\u001b[0;32m      2\u001b[0m \u001b[0ms1\u001b[0m \u001b[1;33m=\u001b[0m \u001b[1;34m\"foo\"\u001b[0m\u001b[1;33m\u001b[0m\u001b[1;33m\u001b[0m\u001b[0m\n\u001b[0;32m      3\u001b[0m \u001b[0ms2\u001b[0m \u001b[1;33m=\u001b[0m \u001b[1;34m\"abc\"\u001b[0m\u001b[1;33m\u001b[0m\u001b[1;33m\u001b[0m\u001b[0m\n\u001b[1;32m----> 4\u001b[1;33m \u001b[1;32massert\u001b[0m\u001b[1;33m(\u001b[0m\u001b[0moa\u001b[0m\u001b[1;33m(\u001b[0m\u001b[0ms1\u001b[0m\u001b[1;33m,\u001b[0m \u001b[0ms2\u001b[0m\u001b[1;33m)\u001b[0m \u001b[1;33m==\u001b[0m \u001b[1;32mTrue\u001b[0m\u001b[1;33m)\u001b[0m\u001b[1;33m\u001b[0m\u001b[1;33m\u001b[0m\u001b[0m\n\u001b[0m",
      "\u001b[1;31mAssertionError\u001b[0m: "
     ]
    }
   ],
   "source": [
    "# should fail\n",
    "s1 = \"foo\"\n",
    "s2 = \"abc\"\n",
    "assert(oa(s1, s2) == True)"
   ]
  },
  {
   "cell_type": "code",
   "execution_count": 4,
   "metadata": {},
   "outputs": [],
   "source": [
    "# should pass\n",
    "s1 = \"abc\"\n",
    "s2 = \"foo\"\n",
    "assert(oa(s1, s2) == True)"
   ]
  },
  {
   "cell_type": "code",
   "execution_count": 5,
   "metadata": {},
   "outputs": [],
   "source": [
    "# should pass\n",
    "s1 = \"abcc\"\n",
    "s2 = \"aaab\"\n",
    "assert(oa(s1, s2) == True)"
   ]
  },
  {
   "cell_type": "markdown",
   "metadata": {},
   "source": [
    "## Random Case Testing:"
   ]
  },
  {
   "cell_type": "code",
   "execution_count": 6,
   "metadata": {},
   "outputs": [],
   "source": [
    "import random\n",
    "import string\n",
    "\n",
    "def generate_random_string(length):\n",
    "    return ''.join(random.choice(string.ascii_lowercase) for _ in range(length))\n",
    "\n",
    "def test_result(length_s1, length_s2):\n",
    "    s1 = generate_random_string(length_s1)\n",
    "    s2 = generate_random_string(length_s2)\n",
    "    print(f\"the length of s1 {length_s1}; the length of s2 {length_s2}\")\n",
    "    print(\"s1: \", s1)\n",
    "    print(\"s2: \", s2)\n",
    "    print(\"the sorted s1: \", \"\".join(sorted(s1)))\n",
    "    print(\"the sorted s2: \", \"\".join(sorted(s2)))\n",
    "    print(f\"The result: {oa(s1, s2)}\")\n",
    "    print(\"-\"*50)"
   ]
  },
  {
   "cell_type": "code",
   "execution_count": 7,
   "metadata": {},
   "outputs": [
    {
     "name": "stdout",
     "output_type": "stream",
     "text": [
      "the length of s1 27; the length of s2 27\n",
      "s1:  dnnrqdrgbfhzyoesvtudnmltpnm\n",
      "s2:  twfqulmrtjonpuuxcvrmokkdctq\n",
      "the sorted s1:  bdddefghlmmnnnnopqrrsttuvyz\n",
      "the sorted s2:  ccdfjkklmmnoopqqrrtttuuuvwx\n",
      "The result: False\n",
      "--------------------------------------------------\n",
      "the length of s1 19; the length of s2 19\n",
      "s1:  eehzlsjazyczhbqroaa\n",
      "s2:  unuzxjhuyxnlmulgagj\n",
      "the sorted s1:  aaabceehhjloqrsyzzz\n",
      "the sorted s2:  agghjjllmnnuuuuxxyz\n",
      "The result: True\n",
      "--------------------------------------------------\n",
      "the length of s1 13; the length of s2 13\n",
      "s1:  vlkkqipdehres\n",
      "s2:  avnoxdphoijwb\n",
      "the sorted s1:  deehikklpqrsv\n",
      "the sorted s2:  abdhijnoopvwx\n",
      "The result: False\n",
      "--------------------------------------------------\n",
      "the length of s1 27; the length of s2 27\n",
      "s1:  aoncofhfrjbesnkwziltlxjehoz\n",
      "s2:  pocipoahjuyhbzpghvtqltlsbwi\n",
      "the sorted s1:  abceeffhhijjkllnnooorstwxzz\n",
      "the sorted s2:  abbcghhhiijlloopppqsttuvwyz\n",
      "The result: True\n",
      "--------------------------------------------------\n",
      "the length of s1 29; the length of s2 29\n",
      "s1:  sknnpxvbznqtnwizazczldzlpmqtp\n",
      "s2:  fqecelzjhubrblgrmuznesqjqttjn\n",
      "the sorted s1:  abcdikllmnnnnpppqqsttvwxzzzzz\n",
      "the sorted s2:  bbceeefghjjjllmnnqqqrrsttuuzz\n",
      "The result: False\n",
      "--------------------------------------------------\n",
      "the length of s1 18; the length of s2 18\n",
      "s1:  likpcwtylpuayikiwu\n",
      "s2:  renesmqyfqziyffcjv\n",
      "the sorted s1:  aciiikkllpptuuwwyy\n",
      "the sorted s2:  ceefffijmnqqrsvyyz\n",
      "The result: False\n",
      "--------------------------------------------------\n",
      "the length of s1 27; the length of s2 27\n",
      "s1:  mcmldkdndrgotgsddqhpoejxkle\n",
      "s2:  azejinaorzpnubqklmbemvkefoj\n",
      "the sorted s1:  cdddddeegghjkkllmmnoopqrstx\n",
      "the sorted s2:  aabbeeefijjkklmmnnoopqruvzz\n",
      "The result: False\n",
      "--------------------------------------------------\n",
      "the length of s1 21; the length of s2 21\n",
      "s1:  bbtdrhnrgsuxpdnmrfzyp\n",
      "s2:  burvzpubmajswqsfcdaqd\n",
      "the sorted s1:  bbddfghmnnpprrrstuxyz\n",
      "the sorted s2:  aabbcddfjmpqqrssuuvwz\n",
      "The result: False\n",
      "--------------------------------------------------\n",
      "the length of s1 23; the length of s2 23\n",
      "s1:  bhzhnrdmxugmyujucjxjkmu\n",
      "s2:  eglbvvkamhtlkoyohmmzggi\n",
      "the sorted s1:  bcdghhjjjkmmmnruuuuxxyz\n",
      "the sorted s2:  abeggghhikkllmmmootvvyz\n",
      "The result: False\n",
      "--------------------------------------------------\n",
      "the length of s1 22; the length of s2 22\n",
      "s1:  kntnchdhjrqocuorobscci\n",
      "s2:  bguubydsqmniwufsmunjki\n",
      "the sorted s1:  bccccdhhijknnoooqrrstu\n",
      "the sorted s2:  bbdfgiijkmmnnqssuuuuwy\n",
      "The result: False\n",
      "--------------------------------------------------\n"
     ]
    }
   ],
   "source": [
    "# test for the same length \n",
    "testing_times = 10\n",
    "testing_length_range = (10, 30)\n",
    "for _ in range(testing_times):\n",
    "    length_s1 = length_s2 = random.randrange(*testing_length_range)\n",
    "    test_result(length_s1, length_s2)"
   ]
  },
  {
   "cell_type": "code",
   "execution_count": 8,
   "metadata": {},
   "outputs": [
    {
     "name": "stdout",
     "output_type": "stream",
     "text": [
      "the length of s1 18; the length of s2 13\n",
      "s1:  fwoznsanjwqcfcupjw\n",
      "s2:  onsrepbaxlfpv\n",
      "the sorted s1:  accffjjnnopqsuwwwz\n",
      "the sorted s2:  abeflnopprsvx\n",
      "The result: False\n",
      "--------------------------------------------------\n",
      "the length of s1 24; the length of s2 28\n",
      "s1:  xykuivmomfdyabaebxslxuok\n",
      "s2:  sxxbvipuxjywwvutlpxxkjpstnry\n",
      "the sorted s1:  aabbdefikklmmoosuuvxxxyy\n",
      "the sorted s2:  bijjklnppprssttuuvvwwxxxxxyy\n",
      "The result: True\n",
      "--------------------------------------------------\n",
      "the length of s1 17; the length of s2 20\n",
      "s1:  ckdlskzzhevflwxdh\n",
      "s2:  wpvpgavouwklqunrverc\n",
      "the sorted s1:  cddefhhkkllsvwxzz\n",
      "the sorted s2:  acegklnoppqrruuvvvww\n",
      "The result: True\n",
      "--------------------------------------------------\n",
      "the length of s1 26; the length of s2 13\n",
      "s1:  hfihyranowzxhsqpkirzsvyhth\n",
      "s2:  augtvzvzqtrvt\n",
      "the sorted s1:  afhhhhhiiknopqrrsstvwxyyzz\n",
      "the sorted s2:  agqrtttuvvvzz\n",
      "The result: False\n",
      "--------------------------------------------------\n",
      "the length of s1 17; the length of s2 13\n",
      "s1:  aziwzspeekxjadczi\n",
      "s2:  qtdqidaldknpm\n",
      "the sorted s1:  aacdeeiijkpswxzzz\n",
      "the sorted s2:  adddiklmnpqqt\n",
      "The result: False\n",
      "--------------------------------------------------\n",
      "the length of s1 17; the length of s2 27\n",
      "s1:  lstvqpsedntnhthbn\n",
      "s2:  ijnamzzfuacfgktfnnbidjeuzzh\n",
      "the sorted s1:  bdehhlnnnpqsstttv\n",
      "the sorted s2:  aabcdefffghiijjkmnnntuuzzzz\n",
      "The result: True\n",
      "--------------------------------------------------\n",
      "the length of s1 19; the length of s2 27\n",
      "s1:  kjriflsrijkhmvtwqry\n",
      "s2:  aqqeehqgltduiqmnlldazghalan\n",
      "the sorted s1:  fhiijjkklmqrrrstvwy\n",
      "the sorted s2:  aaaaddeegghhillllmnnqqqqtuz\n",
      "The result: True\n",
      "--------------------------------------------------\n",
      "the length of s1 16; the length of s2 18\n",
      "s1:  rscueirbjttwqkem\n",
      "s2:  zqgtuhvwpgmkhxlpev\n",
      "the sorted s1:  bceeijkmqrrsttuw\n",
      "the sorted s2:  egghhklmppqtuvvwxz\n",
      "The result: True\n",
      "--------------------------------------------------\n",
      "the length of s1 15; the length of s2 20\n",
      "s1:  mrsjgsqnttxaaug\n",
      "s2:  pmxattmmkuwdrkkoiszz\n",
      "the sorted s1:  aaggjmnqrssttux\n",
      "the sorted s2:  adikkkmmmoprsttuwxzz\n",
      "The result: True\n",
      "--------------------------------------------------\n",
      "the length of s1 21; the length of s2 11\n",
      "s1:  sgqreklksqzqjgiqacntc\n",
      "s2:  wgmjvgaumbu\n",
      "the sorted s1:  acceggijkklnqqqqrsstz\n",
      "the sorted s2:  abggjmmuuvw\n",
      "The result: False\n",
      "--------------------------------------------------\n"
     ]
    }
   ],
   "source": [
    "# test for the different length \n",
    "testing_times = 10\n",
    "testing_length_range = (10, 30)\n",
    "for _ in range(testing_times):\n",
    "    length_s1 = random.randrange(*testing_length_range)\n",
    "    length_s2 = random.randrange(*testing_length_range)\n",
    "    test_result(length_s1, length_s2)"
   ]
  },
  {
   "cell_type": "markdown",
   "metadata": {},
   "source": [
    "## This is the end of explanation\n",
    "Thank you for putting effort into reading it "
   ]
  }
 ],
 "metadata": {
  "kernelspec": {
   "display_name": "Python 3",
   "language": "python",
   "name": "python3"
  },
  "language_info": {
   "codemirror_mode": {
    "name": "ipython",
    "version": 3
   },
   "file_extension": ".py",
   "mimetype": "text/x-python",
   "name": "python",
   "nbconvert_exporter": "python",
   "pygments_lexer": "ipython3",
   "version": "3.7.3"
  }
 },
 "nbformat": 4,
 "nbformat_minor": 2
}
